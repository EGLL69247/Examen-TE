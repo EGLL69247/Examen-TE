{
 "cells": [
  {
   "cell_type": "code",
   "execution_count": 1,
   "id": "a28af798-c173-48a2-8cf1-264fbbe84607",
   "metadata": {},
   "outputs": [],
   "source": [
    "import pandas as pd\n",
    "import numpy as np\n",
    "import seaborn as sns "
   ]
  },
  {
   "cell_type": "code",
   "execution_count": 2,
   "id": "215ea3a3-4232-4a35-a79f-4919e2994bd0",
   "metadata": {},
   "outputs": [],
   "source": [
    "import math as m \n",
    "import statistics as stats"
   ]
  },
  {
   "cell_type": "code",
   "execution_count": 3,
   "id": "a43f5821-9666-4ab6-9a75-5719db6ca75b",
   "metadata": {},
   "outputs": [],
   "source": [
    "import scipy.stats as ss"
   ]
  },
  {
   "cell_type": "code",
   "execution_count": 4,
   "id": "d1d240b8-18de-4176-b42e-94074fa91eee",
   "metadata": {},
   "outputs": [],
   "source": [
    "datos= pd.read_csv('EXAMEN TE.csv')"
   ]
  },
  {
   "cell_type": "markdown",
   "id": "1f55e466-d333-4bff-a87b-b4d55de0d69d",
   "metadata": {},
   "source": [
    "### Cargar datos"
   ]
  },
  {
   "cell_type": "code",
   "execution_count": 5,
   "id": "88b3d52a-9c42-470b-b333-a5fa580d475e",
   "metadata": {},
   "outputs": [
    {
     "data": {
      "text/html": [
       "<div>\n",
       "<style scoped>\n",
       "    .dataframe tbody tr th:only-of-type {\n",
       "        vertical-align: middle;\n",
       "    }\n",
       "\n",
       "    .dataframe tbody tr th {\n",
       "        vertical-align: top;\n",
       "    }\n",
       "\n",
       "    .dataframe thead th {\n",
       "        text-align: right;\n",
       "    }\n",
       "</style>\n",
       "<table border=\"1\" class=\"dataframe\">\n",
       "  <thead>\n",
       "    <tr style=\"text-align: right;\">\n",
       "      <th></th>\n",
       "      <th>Resultado de la clasificación no supervisada realizada en la superficie de trigo, en el ciclo de siembra otoño-invierno 1995-1996. Río Mayo, Sonora, México.</th>\n",
       "      <th>Unnamed: 1</th>\n",
       "      <th>Unnamed: 2</th>\n",
       "      <th>Unnamed: 3</th>\n",
       "      <th>Unnamed: 4</th>\n",
       "    </tr>\n",
       "  </thead>\n",
       "  <tbody>\n",
       "    <tr>\n",
       "      <th>0</th>\n",
       "      <td>CLUSTER</td>\n",
       "      <td>CANTIDAD DE PIXELES</td>\n",
       "      <td>VALOR ESPECTRAL MEDIO</td>\n",
       "      <td>NaN</td>\n",
       "      <td>NaN</td>\n",
       "    </tr>\n",
       "    <tr>\n",
       "      <th>1</th>\n",
       "      <td>NaN</td>\n",
       "      <td>NaN</td>\n",
       "      <td>TM2</td>\n",
       "      <td>TM3</td>\n",
       "      <td>TM4</td>\n",
       "    </tr>\n",
       "    <tr>\n",
       "      <th>2</th>\n",
       "      <td>1</td>\n",
       "      <td>254745</td>\n",
       "      <td>23.11</td>\n",
       "      <td>28.59</td>\n",
       "      <td>33.75</td>\n",
       "    </tr>\n",
       "    <tr>\n",
       "      <th>3</th>\n",
       "      <td>2</td>\n",
       "      <td>329174</td>\n",
       "      <td>21.59</td>\n",
       "      <td>23.58</td>\n",
       "      <td>43.6</td>\n",
       "    </tr>\n",
       "    <tr>\n",
       "      <th>4</th>\n",
       "      <td>3</td>\n",
       "      <td>280238</td>\n",
       "      <td>27.35</td>\n",
       "      <td>34.58</td>\n",
       "      <td>48.53</td>\n",
       "    </tr>\n",
       "    <tr>\n",
       "      <th>5</th>\n",
       "      <td>4</td>\n",
       "      <td>561113</td>\n",
       "      <td>20.93</td>\n",
       "      <td>21.18</td>\n",
       "      <td>53.75</td>\n",
       "    </tr>\n",
       "    <tr>\n",
       "      <th>6</th>\n",
       "      <td>5</td>\n",
       "      <td>748527</td>\n",
       "      <td>19.23</td>\n",
       "      <td>17.52</td>\n",
       "      <td>62.21</td>\n",
       "    </tr>\n",
       "    <tr>\n",
       "      <th>7</th>\n",
       "      <td>6</td>\n",
       "      <td>831918</td>\n",
       "      <td>17.98</td>\n",
       "      <td>14.92</td>\n",
       "      <td>70.4</td>\n",
       "    </tr>\n",
       "    <tr>\n",
       "      <th>8</th>\n",
       "      <td>7</td>\n",
       "      <td>691350</td>\n",
       "      <td>17.81</td>\n",
       "      <td>14.15</td>\n",
       "      <td>78.53</td>\n",
       "    </tr>\n",
       "    <tr>\n",
       "      <th>9</th>\n",
       "      <td>8</td>\n",
       "      <td>466315</td>\n",
       "      <td>17.66</td>\n",
       "      <td>13.52</td>\n",
       "      <td>86.26</td>\n",
       "    </tr>\n",
       "    <tr>\n",
       "      <th>10</th>\n",
       "      <td>9</td>\n",
       "      <td>218683</td>\n",
       "      <td>17.97</td>\n",
       "      <td>13.56</td>\n",
       "      <td>93.9</td>\n",
       "    </tr>\n",
       "    <tr>\n",
       "      <th>11</th>\n",
       "      <td>10</td>\n",
       "      <td>69071</td>\n",
       "      <td>18.55</td>\n",
       "      <td>13.88</td>\n",
       "      <td>102.39</td>\n",
       "    </tr>\n",
       "    <tr>\n",
       "      <th>12</th>\n",
       "      <td>11</td>\n",
       "      <td>206</td>\n",
       "      <td>45.85</td>\n",
       "      <td>66.67</td>\n",
       "      <td>76.29</td>\n",
       "    </tr>\n",
       "    <tr>\n",
       "      <th>13</th>\n",
       "      <td>12</td>\n",
       "      <td>0</td>\n",
       "      <td>42</td>\n",
       "      <td>58</td>\n",
       "      <td>123</td>\n",
       "    </tr>\n",
       "    <tr>\n",
       "      <th>14</th>\n",
       "      <td>TM2= reflectancia en el verde, 500-590 nm, TM3...</td>\n",
       "      <td>NaN</td>\n",
       "      <td>NaN</td>\n",
       "      <td>NaN</td>\n",
       "      <td>NaN</td>\n",
       "    </tr>\n",
       "    <tr>\n",
       "      <th>15</th>\n",
       "      <td>NaN</td>\n",
       "      <td>NaN</td>\n",
       "      <td>NaN</td>\n",
       "      <td>NaN</td>\n",
       "      <td>NaN</td>\n",
       "    </tr>\n",
       "    <tr>\n",
       "      <th>16</th>\n",
       "      <td>Sensor Remoto utilizado Landsat TM y electroma...</td>\n",
       "      <td>NaN</td>\n",
       "      <td>NaN</td>\n",
       "      <td>NaN</td>\n",
       "      <td>NaN</td>\n",
       "    </tr>\n",
       "    <tr>\n",
       "      <th>17</th>\n",
       "      <td>z = 1.96, 1.64 y 1.28 para niveles de confianz...</td>\n",
       "      <td>NaN</td>\n",
       "      <td>NaN</td>\n",
       "      <td>NaN</td>\n",
       "      <td>NaN</td>\n",
       "    </tr>\n",
       "  </tbody>\n",
       "</table>\n",
       "</div>"
      ],
      "text/plain": [
       "   Resultado de la clasificación no supervisada realizada en la superficie de trigo, en el ciclo de siembra otoño-invierno 1995-1996. Río Mayo, Sonora, México.  \\\n",
       "0                                             CLUSTER                                                                                                             \n",
       "1                                                 NaN                                                                                                             \n",
       "2                                                   1                                                                                                             \n",
       "3                                                   2                                                                                                             \n",
       "4                                                   3                                                                                                             \n",
       "5                                                   4                                                                                                             \n",
       "6                                                   5                                                                                                             \n",
       "7                                                   6                                                                                                             \n",
       "8                                                   7                                                                                                             \n",
       "9                                                   8                                                                                                             \n",
       "10                                                  9                                                                                                             \n",
       "11                                                 10                                                                                                             \n",
       "12                                                 11                                                                                                             \n",
       "13                                                 12                                                                                                             \n",
       "14  TM2= reflectancia en el verde, 500-590 nm, TM3...                                                                                                             \n",
       "15                                                NaN                                                                                                             \n",
       "16  Sensor Remoto utilizado Landsat TM y electroma...                                                                                                             \n",
       "17  z = 1.96, 1.64 y 1.28 para niveles de confianz...                                                                                                             \n",
       "\n",
       "             Unnamed: 1             Unnamed: 2 Unnamed: 3 Unnamed: 4  \n",
       "0   CANTIDAD DE PIXELES  VALOR ESPECTRAL MEDIO        NaN        NaN  \n",
       "1                   NaN                    TM2        TM3        TM4  \n",
       "2                254745                  23.11      28.59      33.75  \n",
       "3                329174                  21.59      23.58       43.6  \n",
       "4                280238                  27.35      34.58      48.53  \n",
       "5                561113                  20.93      21.18      53.75  \n",
       "6                748527                  19.23      17.52      62.21  \n",
       "7                831918                  17.98      14.92       70.4  \n",
       "8                691350                  17.81      14.15      78.53  \n",
       "9                466315                  17.66      13.52      86.26  \n",
       "10               218683                  17.97      13.56       93.9  \n",
       "11                69071                  18.55      13.88     102.39  \n",
       "12                  206                  45.85      66.67      76.29  \n",
       "13                    0                     42         58        123  \n",
       "14                  NaN                    NaN        NaN        NaN  \n",
       "15                  NaN                    NaN        NaN        NaN  \n",
       "16                  NaN                    NaN        NaN        NaN  \n",
       "17                  NaN                    NaN        NaN        NaN  "
      ]
     },
     "execution_count": 5,
     "metadata": {},
     "output_type": "execute_result"
    }
   ],
   "source": [
    "datos"
   ]
  },
  {
   "cell_type": "markdown",
   "id": "834d4e6e-7353-4c8c-96e3-4df5081d2544",
   "metadata": {},
   "source": [
    "### Mis datos solo corresponden a TM3 por ello extraemos dicha columna y la almacenamos en la variable \"md\""
   ]
  },
  {
   "cell_type": "code",
   "execution_count": 6,
   "id": "2f111937-f566-453a-a8a0-e9ee397be642",
   "metadata": {},
   "outputs": [
    {
     "data": {
      "text/html": [
       "<div>\n",
       "<style scoped>\n",
       "    .dataframe tbody tr th:only-of-type {\n",
       "        vertical-align: middle;\n",
       "    }\n",
       "\n",
       "    .dataframe tbody tr th {\n",
       "        vertical-align: top;\n",
       "    }\n",
       "\n",
       "    .dataframe thead th {\n",
       "        text-align: right;\n",
       "    }\n",
       "</style>\n",
       "<table border=\"1\" class=\"dataframe\">\n",
       "  <thead>\n",
       "    <tr style=\"text-align: right;\">\n",
       "      <th></th>\n",
       "      <th>Unnamed: 3</th>\n",
       "    </tr>\n",
       "  </thead>\n",
       "  <tbody>\n",
       "    <tr>\n",
       "      <th>0</th>\n",
       "      <td>NaN</td>\n",
       "    </tr>\n",
       "    <tr>\n",
       "      <th>1</th>\n",
       "      <td>TM3</td>\n",
       "    </tr>\n",
       "    <tr>\n",
       "      <th>2</th>\n",
       "      <td>28.59</td>\n",
       "    </tr>\n",
       "    <tr>\n",
       "      <th>3</th>\n",
       "      <td>23.58</td>\n",
       "    </tr>\n",
       "    <tr>\n",
       "      <th>4</th>\n",
       "      <td>34.58</td>\n",
       "    </tr>\n",
       "    <tr>\n",
       "      <th>5</th>\n",
       "      <td>21.18</td>\n",
       "    </tr>\n",
       "    <tr>\n",
       "      <th>6</th>\n",
       "      <td>17.52</td>\n",
       "    </tr>\n",
       "    <tr>\n",
       "      <th>7</th>\n",
       "      <td>14.92</td>\n",
       "    </tr>\n",
       "    <tr>\n",
       "      <th>8</th>\n",
       "      <td>14.15</td>\n",
       "    </tr>\n",
       "    <tr>\n",
       "      <th>9</th>\n",
       "      <td>13.52</td>\n",
       "    </tr>\n",
       "    <tr>\n",
       "      <th>10</th>\n",
       "      <td>13.56</td>\n",
       "    </tr>\n",
       "    <tr>\n",
       "      <th>11</th>\n",
       "      <td>13.88</td>\n",
       "    </tr>\n",
       "    <tr>\n",
       "      <th>12</th>\n",
       "      <td>66.67</td>\n",
       "    </tr>\n",
       "    <tr>\n",
       "      <th>13</th>\n",
       "      <td>58</td>\n",
       "    </tr>\n",
       "    <tr>\n",
       "      <th>14</th>\n",
       "      <td>NaN</td>\n",
       "    </tr>\n",
       "    <tr>\n",
       "      <th>15</th>\n",
       "      <td>NaN</td>\n",
       "    </tr>\n",
       "    <tr>\n",
       "      <th>16</th>\n",
       "      <td>NaN</td>\n",
       "    </tr>\n",
       "    <tr>\n",
       "      <th>17</th>\n",
       "      <td>NaN</td>\n",
       "    </tr>\n",
       "  </tbody>\n",
       "</table>\n",
       "</div>"
      ],
      "text/plain": [
       "   Unnamed: 3\n",
       "0         NaN\n",
       "1         TM3\n",
       "2       28.59\n",
       "3       23.58\n",
       "4       34.58\n",
       "5       21.18\n",
       "6       17.52\n",
       "7       14.92\n",
       "8       14.15\n",
       "9       13.52\n",
       "10      13.56\n",
       "11      13.88\n",
       "12      66.67\n",
       "13         58\n",
       "14        NaN\n",
       "15        NaN\n",
       "16        NaN\n",
       "17        NaN"
      ]
     },
     "execution_count": 6,
     "metadata": {},
     "output_type": "execute_result"
    }
   ],
   "source": [
    "md= datos[['Unnamed: 3']]\n",
    "md"
   ]
  },
  {
   "cell_type": "markdown",
   "id": "ae576850-3fdd-4c1c-8406-a675aeadefe0",
   "metadata": {},
   "source": [
    "### Al cargar los datos se cargan las celdas sin valor y estas se interpretan como \"NaN\". Debemos eliminar estas para que no hagan ruido en los datos al igual que la celda con el encabezado de la columna que aparece como \"TM3\" "
   ]
  },
  {
   "cell_type": "code",
   "execution_count": 7,
   "id": "eef2940f-4e1d-4233-bebb-9270bf8f7c7c",
   "metadata": {},
   "outputs": [
    {
     "data": {
      "text/html": [
       "<div>\n",
       "<style scoped>\n",
       "    .dataframe tbody tr th:only-of-type {\n",
       "        vertical-align: middle;\n",
       "    }\n",
       "\n",
       "    .dataframe tbody tr th {\n",
       "        vertical-align: top;\n",
       "    }\n",
       "\n",
       "    .dataframe thead th {\n",
       "        text-align: right;\n",
       "    }\n",
       "</style>\n",
       "<table border=\"1\" class=\"dataframe\">\n",
       "  <thead>\n",
       "    <tr style=\"text-align: right;\">\n",
       "      <th></th>\n",
       "      <th>Unnamed: 3</th>\n",
       "    </tr>\n",
       "  </thead>\n",
       "  <tbody>\n",
       "    <tr>\n",
       "      <th>2</th>\n",
       "      <td>28.59</td>\n",
       "    </tr>\n",
       "    <tr>\n",
       "      <th>3</th>\n",
       "      <td>23.58</td>\n",
       "    </tr>\n",
       "    <tr>\n",
       "      <th>4</th>\n",
       "      <td>34.58</td>\n",
       "    </tr>\n",
       "    <tr>\n",
       "      <th>5</th>\n",
       "      <td>21.18</td>\n",
       "    </tr>\n",
       "    <tr>\n",
       "      <th>6</th>\n",
       "      <td>17.52</td>\n",
       "    </tr>\n",
       "    <tr>\n",
       "      <th>7</th>\n",
       "      <td>14.92</td>\n",
       "    </tr>\n",
       "    <tr>\n",
       "      <th>8</th>\n",
       "      <td>14.15</td>\n",
       "    </tr>\n",
       "    <tr>\n",
       "      <th>9</th>\n",
       "      <td>13.52</td>\n",
       "    </tr>\n",
       "    <tr>\n",
       "      <th>10</th>\n",
       "      <td>13.56</td>\n",
       "    </tr>\n",
       "    <tr>\n",
       "      <th>11</th>\n",
       "      <td>13.88</td>\n",
       "    </tr>\n",
       "    <tr>\n",
       "      <th>12</th>\n",
       "      <td>66.67</td>\n",
       "    </tr>\n",
       "    <tr>\n",
       "      <th>13</th>\n",
       "      <td>58</td>\n",
       "    </tr>\n",
       "  </tbody>\n",
       "</table>\n",
       "</div>"
      ],
      "text/plain": [
       "   Unnamed: 3\n",
       "2       28.59\n",
       "3       23.58\n",
       "4       34.58\n",
       "5       21.18\n",
       "6       17.52\n",
       "7       14.92\n",
       "8       14.15\n",
       "9       13.52\n",
       "10      13.56\n",
       "11      13.88\n",
       "12      66.67\n",
       "13         58"
      ]
     },
     "execution_count": 7,
     "metadata": {},
     "output_type": "execute_result"
    }
   ],
   "source": [
    "md= md.drop([0,1,14,15,16,17],axis=0);\n",
    "md"
   ]
  },
  {
   "cell_type": "markdown",
   "id": "4dbce225-e507-4ec1-a364-bb7f04ffe63d",
   "metadata": {},
   "source": [
    "### Renombramos el encabezado de la columna como \"TM3\" ya que esto es importante para el calculo de la tabla de frecuencias "
   ]
  },
  {
   "cell_type": "code",
   "execution_count": 8,
   "id": "39fc4b6c-22d2-4b0a-a7e5-a29b79407f48",
   "metadata": {},
   "outputs": [],
   "source": [
    "md = md.rename(columns={'Unnamed: 3': 'TM3'})"
   ]
  },
  {
   "cell_type": "code",
   "execution_count": 9,
   "id": "b234908f-937b-48e8-a9d5-6c918bc31722",
   "metadata": {},
   "outputs": [
    {
     "data": {
      "text/html": [
       "<div>\n",
       "<style scoped>\n",
       "    .dataframe tbody tr th:only-of-type {\n",
       "        vertical-align: middle;\n",
       "    }\n",
       "\n",
       "    .dataframe tbody tr th {\n",
       "        vertical-align: top;\n",
       "    }\n",
       "\n",
       "    .dataframe thead th {\n",
       "        text-align: right;\n",
       "    }\n",
       "</style>\n",
       "<table border=\"1\" class=\"dataframe\">\n",
       "  <thead>\n",
       "    <tr style=\"text-align: right;\">\n",
       "      <th></th>\n",
       "      <th>TM3</th>\n",
       "    </tr>\n",
       "  </thead>\n",
       "  <tbody>\n",
       "    <tr>\n",
       "      <th>2</th>\n",
       "      <td>28.59</td>\n",
       "    </tr>\n",
       "    <tr>\n",
       "      <th>3</th>\n",
       "      <td>23.58</td>\n",
       "    </tr>\n",
       "    <tr>\n",
       "      <th>4</th>\n",
       "      <td>34.58</td>\n",
       "    </tr>\n",
       "    <tr>\n",
       "      <th>5</th>\n",
       "      <td>21.18</td>\n",
       "    </tr>\n",
       "    <tr>\n",
       "      <th>6</th>\n",
       "      <td>17.52</td>\n",
       "    </tr>\n",
       "    <tr>\n",
       "      <th>7</th>\n",
       "      <td>14.92</td>\n",
       "    </tr>\n",
       "    <tr>\n",
       "      <th>8</th>\n",
       "      <td>14.15</td>\n",
       "    </tr>\n",
       "    <tr>\n",
       "      <th>9</th>\n",
       "      <td>13.52</td>\n",
       "    </tr>\n",
       "    <tr>\n",
       "      <th>10</th>\n",
       "      <td>13.56</td>\n",
       "    </tr>\n",
       "    <tr>\n",
       "      <th>11</th>\n",
       "      <td>13.88</td>\n",
       "    </tr>\n",
       "    <tr>\n",
       "      <th>12</th>\n",
       "      <td>66.67</td>\n",
       "    </tr>\n",
       "    <tr>\n",
       "      <th>13</th>\n",
       "      <td>58</td>\n",
       "    </tr>\n",
       "  </tbody>\n",
       "</table>\n",
       "</div>"
      ],
      "text/plain": [
       "      TM3\n",
       "2   28.59\n",
       "3   23.58\n",
       "4   34.58\n",
       "5   21.18\n",
       "6   17.52\n",
       "7   14.92\n",
       "8   14.15\n",
       "9   13.52\n",
       "10  13.56\n",
       "11  13.88\n",
       "12  66.67\n",
       "13     58"
      ]
     },
     "execution_count": 9,
     "metadata": {},
     "output_type": "execute_result"
    }
   ],
   "source": [
    "md"
   ]
  },
  {
   "cell_type": "markdown",
   "id": "a8d35b3d-1388-489b-ba3d-babd475c3191",
   "metadata": {},
   "source": [
    "### Ordenamos los datos"
   ]
  },
  {
   "cell_type": "code",
   "execution_count": 10,
   "id": "24421329-8089-4667-b3a3-551e410593d2",
   "metadata": {},
   "outputs": [],
   "source": [
    "md= md.sort_values('TM3')"
   ]
  },
  {
   "cell_type": "code",
   "execution_count": 11,
   "id": "896d708b-a209-4d7e-864e-8b9697c4e39c",
   "metadata": {},
   "outputs": [
    {
     "data": {
      "text/html": [
       "<div>\n",
       "<style scoped>\n",
       "    .dataframe tbody tr th:only-of-type {\n",
       "        vertical-align: middle;\n",
       "    }\n",
       "\n",
       "    .dataframe tbody tr th {\n",
       "        vertical-align: top;\n",
       "    }\n",
       "\n",
       "    .dataframe thead th {\n",
       "        text-align: right;\n",
       "    }\n",
       "</style>\n",
       "<table border=\"1\" class=\"dataframe\">\n",
       "  <thead>\n",
       "    <tr style=\"text-align: right;\">\n",
       "      <th></th>\n",
       "      <th>TM3</th>\n",
       "    </tr>\n",
       "  </thead>\n",
       "  <tbody>\n",
       "    <tr>\n",
       "      <th>9</th>\n",
       "      <td>13.52</td>\n",
       "    </tr>\n",
       "    <tr>\n",
       "      <th>10</th>\n",
       "      <td>13.56</td>\n",
       "    </tr>\n",
       "    <tr>\n",
       "      <th>11</th>\n",
       "      <td>13.88</td>\n",
       "    </tr>\n",
       "    <tr>\n",
       "      <th>8</th>\n",
       "      <td>14.15</td>\n",
       "    </tr>\n",
       "    <tr>\n",
       "      <th>7</th>\n",
       "      <td>14.92</td>\n",
       "    </tr>\n",
       "    <tr>\n",
       "      <th>6</th>\n",
       "      <td>17.52</td>\n",
       "    </tr>\n",
       "    <tr>\n",
       "      <th>5</th>\n",
       "      <td>21.18</td>\n",
       "    </tr>\n",
       "    <tr>\n",
       "      <th>3</th>\n",
       "      <td>23.58</td>\n",
       "    </tr>\n",
       "    <tr>\n",
       "      <th>2</th>\n",
       "      <td>28.59</td>\n",
       "    </tr>\n",
       "    <tr>\n",
       "      <th>4</th>\n",
       "      <td>34.58</td>\n",
       "    </tr>\n",
       "    <tr>\n",
       "      <th>13</th>\n",
       "      <td>58</td>\n",
       "    </tr>\n",
       "    <tr>\n",
       "      <th>12</th>\n",
       "      <td>66.67</td>\n",
       "    </tr>\n",
       "  </tbody>\n",
       "</table>\n",
       "</div>"
      ],
      "text/plain": [
       "      TM3\n",
       "9   13.52\n",
       "10  13.56\n",
       "11  13.88\n",
       "8   14.15\n",
       "7   14.92\n",
       "6   17.52\n",
       "5   21.18\n",
       "3   23.58\n",
       "2   28.59\n",
       "4   34.58\n",
       "13     58\n",
       "12  66.67"
      ]
     },
     "execution_count": 11,
     "metadata": {},
     "output_type": "execute_result"
    }
   ],
   "source": [
    "md"
   ]
  },
  {
   "cell_type": "markdown",
   "id": "8cc89d66-7065-472f-9264-7691c3e19d5c",
   "metadata": {},
   "source": [
    "# Estimadores de tendencia central "
   ]
  },
  {
   "cell_type": "markdown",
   "id": "536bb2cc-1b82-409c-a014-d5d98612ac9b",
   "metadata": {},
   "source": [
    "#### Medidas de tendecia central"
   ]
  },
  {
   "cell_type": "code",
   "execution_count": 12,
   "id": "11d7672d-9828-488f-94f1-62c716ebfb6e",
   "metadata": {},
   "outputs": [],
   "source": [
    "md.describe();"
   ]
  },
  {
   "cell_type": "markdown",
   "id": "4a0464f7-e2ce-408b-8501-33e93062f8bd",
   "metadata": {},
   "source": [
    "### Media, mediana y moda "
   ]
  },
  {
   "cell_type": "code",
   "execution_count": 13,
   "id": "ada77ce1-f7da-445d-8373-38ae2509eabf",
   "metadata": {},
   "outputs": [],
   "source": [
    "md2 = pd.to_numeric(md['TM3'], downcast=\"float\");"
   ]
  },
  {
   "cell_type": "code",
   "execution_count": 14,
   "id": "12d4a339-3319-43f9-b5a7-349748c4d4f6",
   "metadata": {},
   "outputs": [
    {
     "name": "stdout",
     "output_type": "stream",
     "text": [
      "Total de datos: 12\n",
      "Media: 26.679166793823242\n",
      "Mediana: 19.350000381469727\n",
      "Moda: 13.520000457763672\n"
     ]
    }
   ],
   "source": [
    "print('Total de datos:',md['TM3'].count())\n",
    "print('Media:',stats.mean(md2))\n",
    "print('Mediana:',stats.median(md2))\n",
    "print('Moda:',stats.mode(md2))"
   ]
  },
  {
   "cell_type": "markdown",
   "id": "0d5d8e41-6097-4c07-b2f1-0fab99fade09",
   "metadata": {},
   "source": [
    "##### Nota: a pesar de que la moda se muestra en el codigo, se sabe que ningun valor es identico por lo que se concluye que no hay moda "
   ]
  },
  {
   "cell_type": "markdown",
   "id": "9a66b80e-2dee-4d00-a4af-664c7bd9cf89",
   "metadata": {},
   "source": [
    "### Desviación estandar y Variación"
   ]
  },
  {
   "cell_type": "code",
   "execution_count": 15,
   "id": "fb7aa135-2c8f-430d-ab67-348cd593d342",
   "metadata": {},
   "outputs": [
    {
     "name": "stdout",
     "output_type": "stream",
     "text": [
      "La desvación estandar es: 18.026304\n",
      "La varianza es: 324.94766\n"
     ]
    }
   ],
   "source": [
    "std = md2.std(ddof=1)\n",
    "var = md2.var(ddof=1)\n",
    "assert(np.sqrt(var) == std)\n",
    "print('La desvación estandar es:',std)\n",
    "print('La varianza es:',var)"
   ]
  },
  {
   "cell_type": "markdown",
   "id": "6d001ad1-acc9-418a-ad48-808ddbecdf0e",
   "metadata": {},
   "source": [
    "### Rango y rango intercuartilico"
   ]
  },
  {
   "cell_type": "code",
   "execution_count": 16,
   "id": "8650d116-1eee-494f-b4a6-2d42499a7fd0",
   "metadata": {},
   "outputs": [
    {
     "name": "stdout",
     "output_type": "stream",
     "text": [
      "El rango es: 53.149998\n",
      "El rango intercuartilico es: 16.005000829696655\n"
     ]
    }
   ],
   "source": [
    "rango = md2.max() - md2.min()\n",
    "iqr = md2.quantile(0.75) - md2.quantile(0.25)\n",
    "print('El rango es:',rango)\n",
    "print('El rango intercuartilico es:',iqr)"
   ]
  },
  {
   "cell_type": "markdown",
   "id": "24814d1f-1fad-4599-9cda-5bb32e55e54f",
   "metadata": {},
   "source": [
    "### Coeficiente de variación"
   ]
  },
  {
   "cell_type": "code",
   "execution_count": 17,
   "id": "3cfd7a9b-cb1c-45e6-a305-9fde93b5f60c",
   "metadata": {},
   "outputs": [
    {
     "name": "stdout",
     "output_type": "stream",
     "text": [
      "El coeficiente de variación calculado manualmente es: 0.67566967\n",
      "El coeficiente de variación usando un modulo es: 0.64690447\n"
     ]
    }
   ],
   "source": [
    "cv = md2.std(ddof=1) / md2.mean()\n",
    "cv2 = ss.variation(md2)\n",
    "print('El coeficiente de variación calculado manualmente es:',cv)\n",
    "print('El coeficiente de variación usando un modulo es:',cv2)"
   ]
  },
  {
   "cell_type": "markdown",
   "id": "1273bed2-5c8d-4c96-bff3-2a781b5db633",
   "metadata": {},
   "source": [
    "## Histograma "
   ]
  },
  {
   "cell_type": "markdown",
   "id": "5345320a-412a-4e7f-b09d-2da6edfa51ce",
   "metadata": {},
   "source": [
    "#### 1. Hacemos la tabla de frecuencias"
   ]
  },
  {
   "cell_type": "code",
   "execution_count": 18,
   "id": "e3a2f678-e2e3-419a-9ca2-473fbd491be5",
   "metadata": {},
   "outputs": [],
   "source": [
    "data= md[['TM3']]\n",
    "pd.set_option('precision',8)\n",
    "datos= data[:]\n",
    "k= 1+3.332*m.log10(len(datos))\n",
    "numero= int(k)\n",
    "if numero % 2==0:\n",
    "    periodos= m.ceil(k)\n",
    "else:\n",
    "    periodos= int(k)\n",
    "    \n",
    "inf= int(float(datos.min()))    \n",
    "dif= int(float(datos.max()))\n",
    "sup= int(float(datos.max())+1)\n",
    "\n",
    "interv= pd.interval_range(\n",
    "    start= inf,\n",
    "    end= sup,\n",
    "    periods= k,\n",
    "    name= 'Intervalo',\n",
    "    closed= 'left')\n",
    "\n",
    "df= pd.DataFrame(index= interv)\n",
    "df['FrecAbs']= pd.cut(md2,bins= df.index).value_counts()\n",
    "df['Marca']= df.index.mid"
   ]
  },
  {
   "cell_type": "code",
   "execution_count": 19,
   "id": "e283294a-7502-494d-8497-1fb5e9b11a4b",
   "metadata": {},
   "outputs": [
    {
     "data": {
      "text/html": [
       "<div>\n",
       "<style scoped>\n",
       "    .dataframe tbody tr th:only-of-type {\n",
       "        vertical-align: middle;\n",
       "    }\n",
       "\n",
       "    .dataframe tbody tr th {\n",
       "        vertical-align: top;\n",
       "    }\n",
       "\n",
       "    .dataframe thead th {\n",
       "        text-align: right;\n",
       "    }\n",
       "</style>\n",
       "<table border=\"1\" class=\"dataframe\">\n",
       "  <thead>\n",
       "    <tr style=\"text-align: right;\">\n",
       "      <th></th>\n",
       "      <th>FrecAbs</th>\n",
       "      <th>Marca</th>\n",
       "    </tr>\n",
       "    <tr>\n",
       "      <th>Intervalo</th>\n",
       "      <th></th>\n",
       "      <th></th>\n",
       "    </tr>\n",
       "  </thead>\n",
       "  <tbody>\n",
       "    <tr>\n",
       "      <th>[13.0, 26.5)</th>\n",
       "      <td>8</td>\n",
       "      <td>19.75</td>\n",
       "    </tr>\n",
       "    <tr>\n",
       "      <th>[26.5, 40.0)</th>\n",
       "      <td>2</td>\n",
       "      <td>33.25</td>\n",
       "    </tr>\n",
       "    <tr>\n",
       "      <th>[40.0, 53.5)</th>\n",
       "      <td>0</td>\n",
       "      <td>46.75</td>\n",
       "    </tr>\n",
       "    <tr>\n",
       "      <th>[53.5, 67.0)</th>\n",
       "      <td>2</td>\n",
       "      <td>60.25</td>\n",
       "    </tr>\n",
       "  </tbody>\n",
       "</table>\n",
       "</div>"
      ],
      "text/plain": [
       "              FrecAbs  Marca\n",
       "Intervalo                   \n",
       "[13.0, 26.5)        8  19.75\n",
       "[26.5, 40.0)        2  33.25\n",
       "[40.0, 53.5)        0  46.75\n",
       "[53.5, 67.0)        2  60.25"
      ]
     },
     "execution_count": 19,
     "metadata": {},
     "output_type": "execute_result"
    }
   ],
   "source": [
    "df"
   ]
  },
  {
   "cell_type": "code",
   "execution_count": 20,
   "id": "68b179c1-3ea7-4ee4-ab93-a205831eecb2",
   "metadata": {},
   "outputs": [
    {
     "name": "stderr",
     "output_type": "stream",
     "text": [
      "D:\\Conda\\envs\\geo_env\\lib\\site-packages\\seaborn\\distributions.py:2619: FutureWarning: `distplot` is a deprecated function and will be removed in a future version. Please adapt your code to use either `displot` (a figure-level function with similar flexibility) or `histplot` (an axes-level function for histograms).\n",
      "  warnings.warn(msg, FutureWarning)\n"
     ]
    },
    {
     "data": {
      "image/png": "[encoded data removed]",
      "text/plain": [
       "<Figure size 432x288 with 1 Axes>"
      ]
     },
     "metadata": {
      "needs_background": "light"
     },
     "output_type": "display_data"
    }
   ],
   "source": [
    "ax = sns.distplot(df, bins=4)"
   ]
  },
  {
   "cell_type": "code",
   "execution_count": 21,
   "id": "8116e17d-398a-4fa4-bae3-9cdea64c6535",
   "metadata": {},
   "outputs": [],
   "source": [
    "import matplotlib.pyplot as plot"
   ]
  },
  {
   "cell_type": "code",
   "execution_count": 23,
   "id": "72bbcb2b-3dea-4a99-b048-5ed6dc8e42b3",
   "metadata": {},
   "outputs": [
    {
     "data": {
      "image/png": "[encoded data removed]",
      "text/plain": [
       "<Figure size 360x360 with 1 Axes>"
      ]
     },
     "metadata": {
      "needs_background": "light"
     },
     "output_type": "display_data"
    }
   ],
   "source": [
    "gfr = pd.Series(md2) # cargamos los datos en un objeto Series\n",
    "intervalos = np.linspace(13, 67, 4)  # calculamos los extremos de los intervalos\n",
    "\n",
    "sns.displot(md2, color='#F2AB6D', bins=intervalos, kde=True) #creamos el gráfico en Seaborn\n",
    " # generamos el histograma a partir de los datos\n",
    "plot.xticks(intervalos)\n",
    "plot.title('Histograma')\n",
    "\n",
    "plot.show()"
   ]
  }
 ],
 "metadata": {
  "kernelspec": {
   "display_name": "Python 3",
   "language": "python",
   "name": "python3"
  },
  "language_info": {
   "codemirror_mode": {
    "name": "ipython",
    "version": 3
   },
   "file_extension": ".py",
   "mimetype": "text/x-python",
   "name": "python",
   "nbconvert_exporter": "python",
   "pygments_lexer": "ipython3",
   "version": "3.8.10"
  }
 },
 "nbformat": 4,
 "nbformat_minor": 5
}
